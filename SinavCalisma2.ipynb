{
 "cells": [
  {
   "cell_type": "code",
   "execution_count": 1,
   "id": "4427c2b4-190f-4bc6-aad5-485a3f0e0688",
   "metadata": {},
   "outputs": [
    {
     "name": "stdout",
     "output_type": "stream",
     "text": [
      "[1, 2, 3, 4, 5, 6, 7, 8, 9, 10, 11, 12, 13, 14, 15, 16, 17, 18, 19, 20, 21, 22, 23, 24, 25, 26, 27, 28, 29, 30, 31, 32, 33, 34, 35, 36, 37, 38, 39, 40, 41, 42, 43, 44, 45, 46, 47, 48, 49, 50, 51, 52, 53, 54, 55, 56, 57, 58, 59, 60, 61, 62, 63, 64, 65, 66, 67, 68, 69, 70, 71, 72, 73, 74, 75, 76, 77, 78, 79, 80, 81, 82, 83, 84, 85, 86, 87, 88, 89, 90, 91, 92, 93, 94, 95, 96, 97, 98, 99, 100]\n"
     ]
    }
   ],
   "source": [
    "# List Comprehension, normalde birkaç satır kodla yapılan işlemlerin tek\n",
    "# satırda yazılmasını ifade eder.\n",
    "my_list=[]\n",
    "for i in range(1,101):\n",
    "    my_list.append(i)\n",
    "\n",
    "print(my_list)"
   ]
  },
  {
   "cell_type": "code",
   "execution_count": 3,
   "id": "3f32130e-7ab5-4de2-a3ba-c1e1ecd5be7f",
   "metadata": {},
   "outputs": [
    {
     "name": "stdout",
     "output_type": "stream",
     "text": [
      "[1, 2, 3, 4, 5, 6, 7, 8, 9, 10, 11, 12, 13, 14, 15, 16, 17, 18, 19, 20, 21, 22, 23, 24, 25, 26, 27, 28, 29, 30, 31, 32, 33, 34, 35, 36, 37, 38, 39, 40, 41, 42, 43, 44, 45, 46, 47, 48, 49, 50, 51, 52, 53, 54, 55, 56, 57, 58, 59, 60, 61, 62, 63, 64, 65, 66, 67, 68, 69, 70, 71, 72, 73, 74, 75, 76, 77, 78, 79, 80, 81, 82, 83, 84, 85, 86, 87, 88, 89, 90, 91, 92, 93, 94, 95, 96, 97, 98, 99, 100]\n"
     ]
    }
   ],
   "source": [
    "my_list_lc = [ x for x in range(1,101)]\n",
    "print(my_list_lc)"
   ]
  },
  {
   "cell_type": "code",
   "execution_count": 6,
   "id": "5d71c9bc-2d9d-47dc-a46b-f2f072a32f64",
   "metadata": {},
   "outputs": [
    {
     "name": "stdout",
     "output_type": "stream",
     "text": [
      "[0, 2, 4, 6, 8, 10, 12, 14, 16, 18, 20, 22, 24, 26, 28, 30, 32, 34, 36, 38, 40, 42, 44, 46, 48, 50, 52, 54, 56, 58, 60, 62, 64, 66, 68, 70, 72, 74, 76, 78, 80, 82, 84, 86, 88, 90, 92, 94, 96, 98, 100]\n"
     ]
    }
   ],
   "source": [
    "cift_list =[ i for i in range(0,101,2)]\n",
    "print(cift_list)"
   ]
  },
  {
   "cell_type": "code",
   "execution_count": 15,
   "id": "e6c2ff31-ad3b-4db8-b4af-4bd896bda429",
   "metadata": {},
   "outputs": [
    {
     "name": "stdout",
     "output_type": "stream",
     "text": [
      "[5, 10, 15, 20, 25, 30, 35, 40, 45, 50, 55, 60, 65, 70, 75, 80, 85, 90, 95, 100, 105, 110, 115, 120, 125, 130, 135, 140, 145, 150, 155, 160, 165, 170, 175, 180, 185, 190, 195, 200, 205, 210, 215, 220, 225, 230, 235, 240, 245, 250, 255, 260, 265, 270, 275, 280, 285, 290, 295, 300, 305, 310, 315, 320, 325, 330, 335, 340, 345, 350, 355, 360, 365, 370, 375, 380, 385, 390, 395, 400, 405, 410, 415, 420, 425, 430, 435, 440, 445, 450, 455, 460, 465, 470, 475, 480, 485, 490, 495, 500]\n",
      "[0, 5, 10, 15, 20, 25, 30, 35, 40, 45, 50, 55, 60, 65, 70, 75, 80, 85, 90, 95, 100, 105, 110, 115, 120, 125, 130, 135, 140, 145, 150, 155, 160, 165, 170, 175, 180, 185, 190, 195, 200, 205, 210, 215, 220, 225, 230, 235, 240, 245, 250, 255, 260, 265, 270, 275, 280, 285, 290, 295, 300, 305, 310, 315, 320, 325, 330, 335, 340, 345, 350, 355, 360, 365, 370, 375, 380, 385, 390, 395, 400, 405, 410, 415, 420, 425, 430, 435, 440, 445, 450, 455, 460, 465, 470, 475, 480, 485, 490, 495, 500]\n"
     ]
    }
   ],
   "source": [
    "# 1'den 100'e kadar olan her sayının 5 katını içeren liste\n",
    "# Normal kod ile:\n",
    "\n",
    "my_list_2= []\n",
    "for x in range(1,101):\n",
    "    x = x*5\n",
    "    my_list_2.append(x)\n",
    "    #my_list_2.append(x*5)\n",
    "\n",
    "print(my_list_2)\n",
    "\n",
    "kat_list=[i*5 for i in range(0,101)]\n",
    "print(kat_list)\n"
   ]
  },
  {
   "cell_type": "code",
   "execution_count": 18,
   "id": "aa03e441-3b74-4115-ab9d-a04b77dd7da2",
   "metadata": {},
   "outputs": [
    {
     "name": "stdout",
     "output_type": "stream",
     "text": [
      "[1, 3, 5, 7, 9, 11, 13, 15, 17, 19, 21, 23, 25, 27, 29, 31, 33, 35, 37, 39, 41, 43, 45, 47, 49, 51, 53, 55, 57, 59, 61, 63, 65, 67, 69, 71, 73, 75, 77, 79, 81, 83, 85, 87, 89, 91, 93, 95, 97, 99]\n"
     ]
    }
   ],
   "source": [
    "# LC'lerin if ile kullanımı\n",
    "# 1'den 100'e kadar olan tek sayıları tutan liste\n",
    "\n",
    "my_list_lc_2 =[i for i in range(1,101) if i %2 !=0]\n",
    "print (my_list_lc_2)"
   ]
  },
  {
   "cell_type": "code",
   "execution_count": 20,
   "id": "7a6c07e3-1d32-4c09-a1fd-365982c21115",
   "metadata": {},
   "outputs": [
    {
     "name": "stdout",
     "output_type": "stream",
     "text": [
      "[6, 12, 18, 30, 36, 42, 54, 60, 66, 78, 84, 90, 102, 108, 114, 126, 132, 138, 150, 156, 162, 174, 180, 186, 198, 204, 210, 222, 228, 234, 246, 252, 258, 270, 276, 282, 294, 300, 306, 318, 324, 330, 342, 348, 354, 366, 372, 378, 390, 396, 402, 414, 420, 426, 438, 444, 450, 462, 468, 474, 486, 492, 498]\n"
     ]
    }
   ],
   "source": [
    "# 1 ile 500 arasında (500'de dahil) 2'ye ve 6'ya tam bölünen ama 8'e tam\n",
    "# bölünmeyen sayılar için \"Uygundur\" değeri yazdıran liste\n",
    "\n",
    "bolme_list=[]\n",
    "for i in range(1,501):\n",
    "    if i%2==0 and i%6==0 and i%8 !=0:\n",
    "        bolme_list.append(i)\n",
    "print(bolme_list)"
   ]
  },
  {
   "cell_type": "code",
   "execution_count": 22,
   "id": "03954e38-0eb6-4220-987e-6eece86f7ea8",
   "metadata": {},
   "outputs": [
    {
     "data": {
      "text/plain": [
       "['Tek', 'Çift', 'Tek', 'Çift', 'Tek', 'Çift', 'Tek', 'Çift', 'Tek', 'Çift']"
      ]
     },
     "execution_count": 22,
     "metadata": {},
     "output_type": "execute_result"
    }
   ],
   "source": [
    "\n",
    "# 1'den 10'a kadar (10'da dahil) olan tek sayılar için \"Tek\" yazan\n",
    "# çift sayılar için \"çift\" yazan liste\n",
    "\n",
    "list_lc_3=[\"Tek\" if x%2 !=00 else \"Çift\" for x in range(1,11)]\n",
    "list_lc_3"
   ]
  },
  {
   "cell_type": "code",
   "execution_count": 31,
   "id": "eabdeec1-0068-4ca5-9926-a75dc484fc04",
   "metadata": {},
   "outputs": [
    {
     "name": "stdout",
     "output_type": "stream",
     "text": [
      "['BURDUR', 'MEHMET', 'AKİF', 'ERSOY', 'ÜNİVERSİTESİ', 'YBS', 'ZTYO']\n"
     ]
    }
   ],
   "source": [
    "gecici_liste_1 = [\"Burdur\",\"Mehmet\",\"Akif\",\"Ersoy\",\"Üniversitesi\",\"YBS\",\"ZTYO\"]\n",
    "\n",
    "# bu listedeki tüm elemanların tamamını büyük harfle yazıp \n",
    "# yeni bir listeye ekleyen kodu yazın (normal kod ve list comprehension)\n",
    "\n",
    "list_lc_4=[x.upper().replace(\"I\",\"İ\") for x in gecici_liste_1]\n",
    "list_lc_4\n",
    "\n",
    "buyuk_liste=[]\n",
    "for kelime in gecici_liste_1:\n",
    "    buyuk_liste.append(kelime.upper().replace(\"I\",\"İ\"))\n",
    "print(buyuk_liste)\n",
    "    \n"
   ]
  },
  {
   "cell_type": "code",
   "execution_count": 32,
   "id": "cd927c38-9798-4242-8c5f-36eb30ca3efd",
   "metadata": {},
   "outputs": [
    {
     "name": "stdout",
     "output_type": "stream",
     "text": [
      "[-1, 4, -3, 16, -5, 36, -7, 64, -9, 100, -11, 144, -13, 196, -15, 256, -17, 324, -19, 400, -21, 484, -23, 576, -25, 676, -27, 784, -29, 900, -31, 1024, -33, 1156, -35, 1296, -37, 1444, -39, 1600, -41, 1764, -43, 1936, -45, 2116, -47, 2304, -49, 2500, -51, 2704, -53, 2916, -55, 3136, -57, 3364, -59, 3600, -61, 3844, -63, 4096, -65, 4356, -67, 4624, -69, 4900, -71, 5184, -73, 5476, -75, 5776, -77, 6084, -79, 6400, -81, 6724, -83, 7056, -85, 7396, -87, 7744, -89, 8100, -91, 8464, -93, 8836, -95, 9216, -97, 9604, -99, 10000]\n"
     ]
    }
   ],
   "source": [
    "# 1 ile 100 arasındaki tek sayıların negatif halini çift sayıların\n",
    "# karesini tutan listeyi LC ile yazınız\n",
    "\n",
    "my_list_7=[]\n",
    "for i in range(1,101):\n",
    "    if i %2 ==0:\n",
    "        my_list_7.append(i**2)\n",
    "    else:\n",
    "        my_list_7.append(-i)\n",
    "\n",
    "print(my_list_7)\n"
   ]
  },
  {
   "cell_type": "code",
   "execution_count": 33,
   "id": "11bc2f3d-7a58-401e-88cf-02c856fa4e38",
   "metadata": {},
   "outputs": [
    {
     "name": "stdout",
     "output_type": "stream",
     "text": [
      "[-1, 4, -3, 16, -5, 36, -7, 64, -9, 100, -11, 144, -13, 196, -15, 256, -17, 324, -19, 400, -21, 484, -23, 576, -25, 676, -27, 784, -29, 900, -31, 1024, -33, 1156, -35, 1296, -37, 1444, -39, 1600, -41, 1764, -43, 1936, -45, 2116, -47, 2304, -49, 2500, -51, 2704, -53, 2916, -55, 3136, -57, 3364, -59, 3600, -61, 3844, -63, 4096, -65, 4356, -67, 4624, -69, 4900, -71, 5184, -73, 5476, -75, 5776, -77, 6084, -79, 6400, -81, 6724, -83, 7056, -85, 7396, -87, 7744, -89, 8100, -91, 8464, -93, 8836, -95, 9216, -97, 9604, -99, 10000]\n"
     ]
    }
   ],
   "source": [
    "list_lc_7=[i**2 if i%2 ==0 else -i for i in range(1,101)]\n",
    "print(list_lc_7)"
   ]
  },
  {
   "cell_type": "code",
   "execution_count": 35,
   "id": "742a2062-61bb-4bdf-94fd-7621e78feaed",
   "metadata": {},
   "outputs": [
    {
     "name": "stdout",
     "output_type": "stream",
     "text": [
      "[6, 7, 8, 9, 10, 12, 14, 16, 18, 20, 18, 21, 24, 27, 30, 24, 28, 32, 36, 40, 30, 35, 40, 45, 50]\n"
     ]
    },
    {
     "data": {
      "text/plain": [
       "[6,\n",
       " 7,\n",
       " 8,\n",
       " 9,\n",
       " 10,\n",
       " 12,\n",
       " 14,\n",
       " 16,\n",
       " 18,\n",
       " 20,\n",
       " 18,\n",
       " 21,\n",
       " 24,\n",
       " 27,\n",
       " 30,\n",
       " 24,\n",
       " 28,\n",
       " 32,\n",
       " 36,\n",
       " 40,\n",
       " 30,\n",
       " 35,\n",
       " 40,\n",
       " 45,\n",
       " 50]"
      ]
     },
     "execution_count": 35,
     "metadata": {},
     "output_type": "execute_result"
    }
   ],
   "source": [
    "# List Comprehension'da iç içe for kullanımı\n",
    "\n",
    "# Dış döngü 1'den 5'e kadar (5'te dahil)\n",
    "# iç döngü 6'dan 10'a kadar (10'da dahil) olmak üzere\n",
    "# tüm sayıların çarpım sonucunu tutan liste\n",
    "\n",
    "my_list_7=[]\n",
    "for i in range(1,6):\n",
    "    for j in range(6,11):\n",
    "        my_list_7.append(i*j)\n",
    "\n",
    "print(my_list_7)\n",
    "\n",
    "\n",
    "lc_list_8=[x*y for x in range(1,6) for y in range(6,11)]\n",
    "lc_list_8"
   ]
  },
  {
   "cell_type": "code",
   "execution_count": 39,
   "id": "a8a1da4b-7d20-464b-9623-daf6c2b6cb22",
   "metadata": {},
   "outputs": [
    {
     "name": "stdout",
     "output_type": "stream",
     "text": [
      "['furkan', 'esra', 'tuğçe', 'ayşe']\n"
     ]
    }
   ],
   "source": [
    "my_notes = {\"furkan\":58,\"esra\":73,\"melih\":20,\"tuba\":13,\"tuğçe\":85,\"ayşe\":50}\n",
    "\n",
    "# Notları 50'den büyük olan öğrencilerin ismini getiren LC kodunu yazın\n",
    "\n",
    "not_list = [anahtar for anahtar,deger in my_notes.items() if deger>=50]\n",
    "print(not_list)\n",
    "\n"
   ]
  },
  {
   "cell_type": "code",
   "execution_count": null,
   "id": "61e96783-18b9-44b1-9818-9e245340dc42",
   "metadata": {},
   "outputs": [],
   "source": []
  }
 ],
 "metadata": {
  "kernelspec": {
   "display_name": "Python 3 (ipykernel)",
   "language": "python",
   "name": "python3"
  },
  "language_info": {
   "codemirror_mode": {
    "name": "ipython",
    "version": 3
   },
   "file_extension": ".py",
   "mimetype": "text/x-python",
   "name": "python",
   "nbconvert_exporter": "python",
   "pygments_lexer": "ipython3",
   "version": "3.12.4"
  }
 },
 "nbformat": 4,
 "nbformat_minor": 5
}
